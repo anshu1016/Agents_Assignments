{
 "cells": [
  {
   "cell_type": "markdown",
   "id": "94b455c5",
   "metadata": {},
   "source": [
    "#### Generate an end to end Langgraph Application for automating the workflow of Blog Generation using open source LLM models and make sure to debug with the help of Langsmith(Attach the zip file and explain your fundamental approach )"
   ]
  },
  {
   "cell_type": "markdown",
   "id": "1e97993f",
   "metadata": {},
   "source": [
    "#### 2.Generate an end to end Langgraph Application for automating the workflow of Coding Peer Reviews using open source LLM models and make sure to debug with the help of Langsmith(Attach the zip file and explain your fundamental approach )"
   ]
  },
  {
   "cell_type": "markdown",
   "id": "57235a14",
   "metadata": {},
   "source": [
    "#### 3.Generate an end to end Langgraph Application for automating the workflow of the architecture of orchestrator and synthesizer(Think of different usecase) using open source LLM models and make sure to debug with the help of Langsmith(Attach the zip file and explain your fundamental approach an dproblem statement )"
   ]
  },
  {
   "cell_type": "markdown",
   "id": "0e14673f",
   "metadata": {},
   "source": [
    "## Codine Peer Review Agent"
   ]
  },
  {
   "cell_type": "code",
   "execution_count": 137,
   "id": "e7df7648",
   "metadata": {},
   "outputs": [
    {
     "data": {
      "text/plain": [
       "True"
      ]
     },
     "execution_count": 137,
     "metadata": {},
     "output_type": "execute_result"
    }
   ],
   "source": [
    "from dotenv import load_dotenv\n",
    "import os\n",
    "\n",
    "# Load variables from .env file into environment\n",
    "load_dotenv()"
   ]
  },
  {
   "cell_type": "code",
   "execution_count": 138,
   "id": "c063b3bd",
   "metadata": {},
   "outputs": [
    {
     "name": "stdout",
     "output_type": "stream",
     "text": [
      "GROQ_API_KEY loaded successfully.\n",
      "GROQ_YOUTUBE_COLLAB loaded successfully.\n",
      "HUGGINGFACE_TOKEN loaded successfully.\n",
      "LANGCHAIN_API_KEY loaded successfully.\n",
      "LANGCHAIN_PROJECT loaded successfully.\n",
      "HF_TOKEN loaded successfully.\n",
      "GOOGLE_API_KEY loaded successfully.\n"
     ]
    }
   ],
   "source": [
    "import os \n",
    "API_KEYS = ['GROQ_API_KEY','GROQ_YOUTUBE_COLLAB','HUGGINGFACE_TOKEN','LANGCHAIN_API_KEY','LANGCHAIN_PROJECT','HF_TOKEN','GOOGLE_API_KEY']\n",
    "for k in API_KEYS:\n",
    "    value = os.getenv(k)\n",
    "    if value:\n",
    "        os.environ[k] = value\n",
    "        print(f\"{k} loaded successfully.\")\n",
    "    else:\n",
    "        print(f\"{k} not found in .env or environment.\")"
   ]
  },
  {
   "cell_type": "code",
   "execution_count": 139,
   "id": "ea93db9e",
   "metadata": {},
   "outputs": [],
   "source": [
    "from langchain_groq import ChatGroq\n",
    "llm = ChatGroq(\n",
    "    model='Llama3-8b-8192',\n",
    ")"
   ]
  },
  {
   "cell_type": "code",
   "execution_count": 140,
   "id": "640f1aaa",
   "metadata": {},
   "outputs": [],
   "source": [
    "from langgraph.graph import StateGraph, START, END\n",
    "from typing_extensions import TypedDict\n",
    "\n",
    "from pydantic import BaseModel"
   ]
  },
  {
   "cell_type": "code",
   "execution_count": 141,
   "id": "c2d30290",
   "metadata": {},
   "outputs": [],
   "source": [
    "from pydantic import BaseModel\n",
    "\n",
    "class ChatState(BaseModel):\n",
    "    user_input: str = \"\"        # Problem statement or task description\n",
    "    code: str = \"\"              # Generated code\n",
    "    test_cases: str = \"\"        # Generated test cases\n",
    "    output_file: str = \"\"       # Output file path or name\n",
    "    review: str = \"\"            # Evaluation report from evaluator agent\n",
    "    documentation: str = \"\"    # Generated documentation\n",
    "    manager: str = \"\"           # Manager decision\n"
   ]
  },
  {
   "cell_type": "code",
   "execution_count": 142,
   "id": "0b0fd84c",
   "metadata": {},
   "outputs": [],
   "source": [
    "def generate_code_agent(state: ChatState) -> str:\n",
    "    \"\"\"\n",
    "    Generates production-ready code for the problem described in `state.user_input`.\n",
    "    \n",
    "    This function is part of a **parallel orchestrator pipeline**, working alongside:\n",
    "      - `generate_test_cases_agent` (test generation)\n",
    "      - `generate_documentation_agent` (documentation creation)\n",
    "    \n",
    "    The generated code will:\n",
    "      - Adhere to the language specified in the user's request (if given).\n",
    "      - Follow clean, maintainable coding practices.\n",
    "      - Include error handling and edge case coverage.\n",
    "    \n",
    "    Args:\n",
    "        state (ChatState): Shared conversation state containing the user problem description.\n",
    "    \n",
    "    Returns:\n",
    "        str: The generated code as a string.\n",
    "    \"\"\"\n",
    "    prompt = f\"\"\"\n",
    "    You are a code-generation agent in a parallel orchestrator system.\n",
    "    Your task is to write **production-grade, well-documented code** to solve the following problem:\n",
    "    \n",
    "    Problem Statement:\n",
    "    {state.user_input}\n",
    "    \n",
    "    Requirements:\n",
    "    - Use the programming language mentioned in the problem, if specified. \n",
    "      If no language is mentioned, default to Python.\n",
    "    - Ensure the code is clean, readable, and maintainable.\n",
    "    - Add comments explaining key logic steps.\n",
    "    - Include input validation and handle edge cases gracefully.\n",
    "    - Avoid unnecessary complexity — keep it efficient.\n",
    "    \n",
    "    Output only the complete code, no explanations.\n",
    "    \"\"\"\n",
    "    task = llm.invoke(prompt)\n",
    "    return {\n",
    "        \"code\": task.content,\n",
    "    }"
   ]
  },
  {
   "cell_type": "code",
   "execution_count": 143,
   "id": "a82e758d",
   "metadata": {},
   "outputs": [],
   "source": [
    "def generate_test_cases_agent(state: ChatState) -> str:\n",
    "    \"\"\"\n",
    "    Generates comprehensive test cases for the code produced by `generate_code_agent`.\n",
    "    \n",
    "    Works in the same **parallel orchestrator** as `generate_code_agent` and `generate_documentation_agent`.\n",
    "    Ensures that the tests validate correctness, edge case handling, and performance constraints.\n",
    "    \n",
    "    Args:\n",
    "        state (ChatState): Shared conversation state containing the user problem description.\n",
    "    \n",
    "    Returns:\n",
    "        str: Test cases in the same programming language as the generated code.\n",
    "    \"\"\"\n",
    "    prompt = f\"\"\"\n",
    "    You are a test-case generation agent in a parallel orchestrator system.\n",
    "    Your task is to produce a **comprehensive set of test cases** for the solution to the following problem:\n",
    "    \n",
    "    Problem Statement:\n",
    "    {state.user_input}\n",
    "    \n",
    "    Requirements:\n",
    "    - Use the **same programming language** as the code from `generate_code_agent`.\n",
    "    - Cover normal, boundary, and edge cases.\n",
    "    - Include both positive and negative test scenarios.\n",
    "    - Ensure tests are self-contained and runnable.\n",
    "    - Where applicable, include automated unit tests using the language's standard testing framework.\n",
    "    \n",
    "    Output only the test code, no explanations.\n",
    "    \"\"\"\n",
    "    task = llm.invoke(prompt)\n",
    "    return {\n",
    "        \"test_cases\": task.content,\n",
    "    }"
   ]
  },
  {
   "cell_type": "code",
   "execution_count": 144,
   "id": "6fa29812",
   "metadata": {},
   "outputs": [],
   "source": [
    "def generate_documentation_agent(state: ChatState) -> str:\n",
    "    \"\"\"\n",
    "    Generates clear and structured documentation for the code solving `state.user_input`.\n",
    "    \n",
    "    This function runs in the **parallel orchestrator** alongside:\n",
    "      - `generate_code_agent` (solution generation)\n",
    "      - `generate_test_cases_agent` (test generation)\n",
    "    \n",
    "    Documentation will include:\n",
    "      - Problem summary\n",
    "      - Inputs and outputs\n",
    "      - Assumptions\n",
    "      - Example usage\n",
    "    \n",
    "    Args:\n",
    "        state (ChatState): Shared conversation state containing the user problem description.\n",
    "    \n",
    "    Returns:\n",
    "        str: Documentation in Markdown format.\n",
    "    \"\"\"\n",
    "    prompt = f\"\"\"\n",
    "    You are a documentation-generation agent in a parallel orchestrator system.\n",
    "    Your task is to write **clear, user-friendly documentation** for the solution to the following problem:\n",
    "    \n",
    "    Problem Statement:\n",
    "    {state.user_input}\n",
    "    \n",
    "    Requirements:\n",
    "    - Use Markdown format.\n",
    "    - Include a short problem description.\n",
    "    - Document function/class parameters, return values, and exceptions.\n",
    "    - Add at least one example usage.\n",
    "    - Mention any important constraints or assumptions.\n",
    "    - Keep it concise but complete.\n",
    "    \n",
    "    Output only the documentation, no explanations.\n",
    "    \"\"\"\n",
    "    task = llm.invoke(prompt)\n",
    "    return {\n",
    "        \"documentation\": task.content,\n",
    "    }"
   ]
  },
  {
   "cell_type": "code",
   "execution_count": null,
   "id": "5f8af59a",
   "metadata": {},
   "outputs": [],
   "source": [
    "def combine_all_file(state: ChatState) -> str:\n",
    "    \"\"\"\n",
    "    Combines all generated outputs into a single output file.\n",
    "    \n",
    "    Args:\n",
    "        state (ChatState): The shared state containing generated content.\n",
    "\n",
    "    Returns:\n",
    "        str: Combined content string containing problem statement, code, test cases, and documentation.\n",
    "    \"\"\"\n",
    "    combine = \"\"\n",
    "    combine += f\"Here is the complete file about {state.user_input}!\\n\\n\"\n",
    "    combine += f\"# Problem Statement: {state.user_input}\\n\\n\"\n",
    "    combine += f\"# Generated Code:\\n{state.code}\\n\\n\"\n",
    "    combine += f\"# Test Cases:\\n{state.test_cases}\\n\\n\"\n",
    "    combine += f\"# Documentation:\\n{state.documentation}\\n\\n\"\n",
    "    return combine\n"
   ]
  },
  {
   "cell_type": "code",
   "execution_count": 146,
   "id": "0d7d2220",
   "metadata": {},
   "outputs": [],
   "source": [
    "def evaluator_agent(state: ChatState) -> str:\n",
    "    \"\"\"\n",
    "    Evaluates the generated code, test cases, and documentation for the problem in `state.user_input`.\n",
    "    \n",
    "    This agent is part of the **parallel/serial orchestrator pipeline** and comes after:\n",
    "      - `generate_code_agent` (produces the main solution)\n",
    "      - `generate_test_cases_agent` (produces tests for the solution)\n",
    "      - `generate_documentation_agent` (produces docs for the solution)\n",
    "    \n",
    "    The evaluator:\n",
    "      - Reviews whether the code solves the given problem correctly.\n",
    "      - Checks completeness and maintainability.\n",
    "      - Ensures the test cases adequately cover edge cases and possible failure scenarios.\n",
    "      - Verifies that the documentation is accurate and clear.\n",
    "      - Suggests improvements for performance, clarity, and robustness.\n",
    "    \n",
    "    Args:\n",
    "        state (ChatState): Shared conversation state containing the problem statement, generated code, \n",
    "                           test cases, and documentation.\n",
    "    \n",
    "    Returns:\n",
    "        str: A structured evaluation and review report.\n",
    "    \"\"\"\n",
    "    prompt = f\"\"\"\n",
    "    You are a code evaluator agent in an orchestrator system.\n",
    "    Your job is to review and evaluate the following solution to the given problem.\n",
    "\n",
    "    Problem Statement:\n",
    "    {state.user_input}\n",
    "\n",
    "    Generated Code:\n",
    "    {state.code}\n",
    "\n",
    "    Generated Test Cases:\n",
    "    {state.test_cases}\n",
    "\n",
    "    Generated Documentation:\n",
    "    {state.documentation}\n",
    "\n",
    "    Evaluation Requirements:\n",
    "    - Assess **correctness**: Does the code solve the problem as stated?\n",
    "    - Assess **completeness**: Are all required features and constraints addressed?\n",
    "    - Assess **code quality**: Maintainability, readability, and adherence to best practices.\n",
    "    - Assess **test coverage**: Do the test cases check normal, boundary, and error conditions?\n",
    "    - Assess **documentation quality**: Clarity, accuracy, and helpfulness.\n",
    "    - Identify **edge cases** not covered in the code or tests.\n",
    "    - Provide **specific improvement suggestions**.\n",
    "    - Rate each category on a scale of 1–10.\n",
    "\n",
    "    Output a structured review in the following format:\n",
    "    ---\n",
    "    **Evaluation Report**\n",
    "    Correctness: X/10 - <comments>\n",
    "    Completeness: X/10 - <comments>\n",
    "    Code Quality: X/10 - <comments>\n",
    "    Test Coverage: X/10 - <comments>\n",
    "    Documentation: X/10 - <comments>\n",
    "    Suggested Improvements:\n",
    "    - Point 1\n",
    "    - Point 2\n",
    "    - ...\n",
    "    ---\n",
    "    \"\"\"\n",
    "    task = llm.invoke(prompt)\n",
    "    return {\n",
    "        \"review\": task.content,\n",
    "    }"
   ]
  },
  {
   "cell_type": "code",
   "execution_count": 147,
   "id": "58302b9b",
   "metadata": {},
   "outputs": [],
   "source": [
    "def manager_agent(state: ChatState) -> str:\n",
    "    \"\"\"\n",
    "    Acts as the decision-making agent in the orchestrator.\n",
    "    \n",
    "    This agent receives the evaluation report from `evaluator_agent` and decides\n",
    "    which agent (code, test cases, or evaluator) should revise their work based on the review.\n",
    "    \n",
    "    Decision logic:\n",
    "      - If correctness or completeness is below the threshold → Send back to `generate_code_agent`.\n",
    "      - If test coverage is below the threshold → Send back to `generate_test_cases_agent`.\n",
    "      - If the evaluation report is inconsistent or incomplete → Send back to `evaluator_agent`.\n",
    "      - If all scores meet or exceed thresholds → Approve and mark task as complete.\n",
    "    \n",
    "    Args:\n",
    "        state (ChatState): Shared conversation state containing:\n",
    "                           - `user_input`\n",
    "                           - `review` (evaluation report from evaluator_agent)\n",
    "                           - Other generated artifacts for context\n",
    "    \n",
    "    Returns:\n",
    "        str: A management decision in the following format:\n",
    "             ---\n",
    "             **Manager Decision**\n",
    "             Action: <Which agent to send back to or APPROVED>\n",
    "             Reason: <Reason for the decision>\n",
    "             ---\n",
    "    \"\"\"\n",
    "    prompt = f\"\"\"\n",
    "    You are the manager agent in a multi-agent orchestrator system.\n",
    "    You receive the following evaluation report from the evaluator agent:\n",
    "\n",
    "    Evaluation Report:\n",
    "    {state.review}\n",
    "\n",
    "    Your task is to:\n",
    "    - Read the scores and comments carefully.\n",
    "    - If **Correctness** < 8 or **Completeness** < 8 → Action = SEND_BACK_TO_CODE_AGENT.\n",
    "    - If **Test Coverage** < 8 → Action = SEND_BACK_TO_TEST_CASES_AGENT.\n",
    "    - If the evaluation report is unclear, incomplete, or contradictory → Action = SEND_BACK_TO_EVALUATOR_AGENT.\n",
    "    - If all scores are >= 8 and there are no major issues → Action = APPROVED.\n",
    "\n",
    "    Output only in the following format:\n",
    "    ---\n",
    "    **Manager Decision**\n",
    "    Action: <SEND_BACK_TO_CODE_AGENT / SEND_BACK_TO_TEST_CASES_AGENT / SEND_BACK_TO_EVALUATOR_AGENT / APPROVED>\n",
    "    Reason: <Brief reason for decision>\n",
    "    ---\n",
    "    \"\"\"\n",
    "    task = llm.invoke(prompt)\n",
    "    return {\n",
    "        \"manager\": task.content,\n",
    "    }\n"
   ]
  },
  {
   "cell_type": "code",
   "execution_count": 148,
   "id": "f4e3237b",
   "metadata": {},
   "outputs": [],
   "source": [
    "def llm_call_router(state: ChatState):\n",
    "    \"\"\"\n",
    "    Routes the workflow to the correct agent based on the Manager's decision.\n",
    "\n",
    "    This function acts as the orchestrator router using the Manager Agent's logic.\n",
    "    It reads the evaluator's review (state.review) and decides whether to:\n",
    "        - Send back to `generate_code_agent`\n",
    "        - Send back to `generate_test_cases_agent`\n",
    "        - Send back to `evaluator_agent`\n",
    "        - Approve the work and finish\n",
    "\n",
    "    Args:\n",
    "        state (ChatState): The shared conversation state containing:\n",
    "                           - user_input\n",
    "                           - review (evaluation report from evaluator_agent)\n",
    "                           - other relevant artifacts (code, test_cases, documentation)\n",
    "\n",
    "    Returns:\n",
    "        dict: Contains the manager's decision and reason.\n",
    "              Example:\n",
    "              {\n",
    "                  \"manager\": \"**Manager Decision**\\nAction: SEND_BACK_TO_CODE_AGENT\\nReason: Low correctness score\"\n",
    "              }\n",
    "    \"\"\"\n",
    "    decision_prompt = f\"\"\"\n",
    "    You are the manager agent in a multi-agent orchestrator system.\n",
    "    You receive the following evaluation report from the evaluator agent:\n",
    "\n",
    "    Evaluation Report:\n",
    "    {state.review}\n",
    "\n",
    "    Your task is to:\n",
    "    - Read the scores and comments carefully.\n",
    "    - If **Correctness** < 8 or **Completeness** < 8 → Action = SEND_BACK_TO_CODE_AGENT.\n",
    "    - If **Test Coverage** < 8 → Action = SEND_BACK_TO_TEST_CASES_AGENT.\n",
    "    - If the evaluation report is unclear, incomplete, or contradictory → Action = SEND_BACK_TO_EVALUATOR_AGENT.\n",
    "    - If all scores are >= 8 and there are no major issues → Action = APPROVED.\n",
    "\n",
    "    Output only in the following format:\n",
    "    ---\n",
    "    **Manager Decision**\n",
    "    Action: <SEND_BACK_TO_CODE_AGENT / SEND_BACK_TO_TEST_CASES_AGENT / SEND_BACK_TO_EVALUATOR_AGENT / APPROVED>\n",
    "    Reason: <Brief reason for decision>\n",
    "    ---\n",
    "    \"\"\"\n",
    "\n",
    "    # Call the LLM router to get the manager's decision\n",
    "    task = router.invoke([\n",
    "        SystemMessage(content=\"You are the Manager Agent. Make a routing decision based on the evaluation report.\"),\n",
    "        HumanMessage(content=decision_prompt)\n",
    "    ])\n",
    "\n",
    "    # Return structured decision\n",
    "    return {\n",
    "        \"manager\": task.content\n",
    "    }\n"
   ]
  },
  {
   "cell_type": "code",
   "execution_count": 149,
   "id": "55c1b72c",
   "metadata": {},
   "outputs": [],
   "source": [
    "def route_decision(state: ChatState):\n",
    "    \"\"\"\n",
    "    Decide which node to visit next based on the manager's decision.\n",
    "\n",
    "    Expected `state.manager` format:\n",
    "    ---\n",
    "    **Manager Decision**\n",
    "    Action: <SEND_BACK_TO_CODE_AGENT / SEND_BACK_TO_TEST_CASES_AGENT / SEND_BACK_TO_EVALUATOR_AGENT / APPROVED>\n",
    "    Reason: <Brief reason>\n",
    "    ---\n",
    "\n",
    "    Returns:\n",
    "        str: Name of the next node in the LangGraph pipeline.\n",
    "    \"\"\"\n",
    "    decision_text = (state.manager or \"\").upper()\n",
    "\n",
    "    if \"SEND_BACK_TO_CODE_AGENT\" in decision_text:\n",
    "        return \"generate_code_agent\"\n",
    "    elif \"SEND_BACK_TO_TEST_CASES_AGENT\" in decision_text:\n",
    "        return \"generate_test_cases_agent\"\n",
    "    elif \"SEND_BACK_TO_EVALUATOR_AGENT\" in decision_text:\n",
    "        return \"evaluator_agent\"\n",
    "    elif \"SEND_BACK_TO_DOCUMENTATION_AGENT\" in decision_text:\n",
    "        return \"generate_documentation_agent\"\n",
    "    elif \"APPROVED\" in decision_text:\n",
    "        return \"end\"  # Final node name for completion\n",
    "    else:\n",
    "        raise ValueError(f\"Unknown manager decision: {state.manager}\")\n"
   ]
  },
  {
   "cell_type": "code",
   "execution_count": 150,
   "id": "82f3c209",
   "metadata": {},
   "outputs": [],
   "source": [
    "parallel_builder = StateGraph(ChatState)\n"
   ]
  },
  {
   "cell_type": "code",
   "execution_count": 151,
   "id": "3c20af64",
   "metadata": {},
   "outputs": [
    {
     "data": {
      "text/plain": [
       "<langgraph.graph.state.StateGraph at 0x1df440e65d0>"
      ]
     },
     "execution_count": 151,
     "metadata": {},
     "output_type": "execute_result"
    }
   ],
   "source": [
    "parallel_builder.add_node('generate_code_agent', generate_code_agent)\n",
    "parallel_builder.add_node('generate_test_cases_agent', generate_test_cases_agent)\n",
    "parallel_builder.add_node('generate_documentation_agent', generate_documentation_agent)\n",
    "parallel_builder.add_node('output_file', combine_all_file)\n",
    "parallel_builder.add_node('evaluator_agent', evaluator_agent)\n",
    "parallel_builder.add_node('manager_agent', manager_agent)\n",
    "parallel_builder.add_node('llm_call_router', llm_call_router)"
   ]
  },
  {
   "cell_type": "code",
   "execution_count": 152,
   "id": "03288cdc",
   "metadata": {},
   "outputs": [
    {
     "data": {
      "text/plain": [
       "<langgraph.graph.state.StateGraph at 0x1df440e65d0>"
      ]
     },
     "execution_count": 152,
     "metadata": {},
     "output_type": "execute_result"
    }
   ],
   "source": [
    "parallel_builder.add_edge(START, 'generate_code_agent')\n",
    "parallel_builder.add_edge(START, 'generate_test_cases_agent')\n",
    "parallel_builder.add_edge(START, 'generate_documentation_agent')\n",
    "\n",
    "parallel_builder.add_edge('generate_code_agent', 'output_file')\n",
    "parallel_builder.add_edge('generate_test_cases_agent', 'output_file')\n",
    "parallel_builder.add_edge('generate_documentation_agent', 'output_file')\n",
    "parallel_builder.add_edge('output_file','evaluator_agent')\n",
    "parallel_builder.add_edge('evaluator_agent', 'manager_agent')\n",
    "parallel_builder.add_edge('manager_agent', 'llm_call_router')\n",
    "parallel_builder.add_conditional_edges(\n",
    "    \"llm_call_router\",\n",
    "    route_decision,\n",
    "    {\n",
    "        \"generate_code_agent\": \"generate_code_agent\",\n",
    "        \"generate_test_cases_agent\": \"generate_test_cases_agent\",\n",
    "        \"generate_documentation_agent\": \"generate_documentation_agent\",\n",
    "        \"evaluator_agent\": \"evaluator_agent\"\n",
    "    }\n",
    ")\n",
    "parallel_builder.add_edge('manager_agent', END)\n",
    "\n"
   ]
  },
  {
   "cell_type": "code",
   "execution_count": 153,
   "id": "82e2ac69",
   "metadata": {},
   "outputs": [],
   "source": [
    "from IPython.display import Image,display\n",
    "from langgraph.checkpoint.memory import MemorySaver"
   ]
  },
  {
   "cell_type": "code",
   "execution_count": 154,
   "id": "e5fb068d",
   "metadata": {},
   "outputs": [
    {
     "data": {
      "image/png": "[encoded data removed]",
      "text/plain": [
       "<IPython.core.display.Image object>"
      ]
     },
     "metadata": {},
     "output_type": "display_data"
    }
   ],
   "source": [
    "# Compile workflow\n",
    "coder_agent = parallel_builder.compile()\n",
    "\n",
    "# Show the workflow\n",
    "display(Image(coder_agent.get_graph().draw_mermaid_png()))"
   ]
  },
  {
   "cell_type": "code",
   "execution_count": 155,
   "id": "002d374a",
   "metadata": {},
   "outputs": [
    {
     "ename": "TypeError",
     "evalue": "'ChatState' object is not subscriptable",
     "output_type": "error",
     "traceback": [
      "\u001b[31m---------------------------------------------------------------------------\u001b[39m",
      "\u001b[31mTypeError\u001b[39m                                 Traceback (most recent call last)",
      "\u001b[36mCell\u001b[39m\u001b[36m \u001b[39m\u001b[32mIn[155]\u001b[39m\u001b[32m, line 1\u001b[39m\n\u001b[32m----> \u001b[39m\u001b[32m1\u001b[39m state = \u001b[43mcoder_agent\u001b[49m\u001b[43m.\u001b[49m\u001b[43minvoke\u001b[49m\u001b[43m(\u001b[49m\u001b[43m{\u001b[49m\n\u001b[32m      2\u001b[39m \u001b[43m    \u001b[49m\u001b[33;43m\"\u001b[39;49m\u001b[33;43muser_input\u001b[39;49m\u001b[33;43m\"\u001b[39;49m\u001b[43m \u001b[49m\u001b[43m:\u001b[49m\u001b[43m \u001b[49m\u001b[33;43m\"\u001b[39;49m\u001b[33;43mWrite a function to calculate the factorial of a number in java\u001b[39;49m\u001b[33;43m\"\u001b[39;49m\n\u001b[32m      3\u001b[39m \u001b[43m    \u001b[49m\u001b[43m}\u001b[49m\u001b[43m)\u001b[49m\n\u001b[32m      4\u001b[39m \u001b[38;5;66;03m# for m in messages['messages']:\u001b[39;00m\n\u001b[32m      5\u001b[39m \u001b[38;5;66;03m#   m.pretty_print()\u001b[39;00m\n\u001b[32m      7\u001b[39m \u001b[38;5;28mprint\u001b[39m(state)\n",
      "\u001b[36mFile \u001b[39m\u001b[32mc:\\AgenticAI\\Assignments\\tasks_venv\\Lib\\site-packages\\langgraph\\pregel\\main.py:3015\u001b[39m, in \u001b[36mPregel.invoke\u001b[39m\u001b[34m(self, input, config, context, stream_mode, print_mode, output_keys, interrupt_before, interrupt_after, durability, **kwargs)\u001b[39m\n\u001b[32m   3012\u001b[39m chunks: \u001b[38;5;28mlist\u001b[39m[\u001b[38;5;28mdict\u001b[39m[\u001b[38;5;28mstr\u001b[39m, Any] | Any] = []\n\u001b[32m   3013\u001b[39m interrupts: \u001b[38;5;28mlist\u001b[39m[Interrupt] = []\n\u001b[32m-> \u001b[39m\u001b[32m3015\u001b[39m \u001b[43m\u001b[49m\u001b[38;5;28;43;01mfor\u001b[39;49;00m\u001b[43m \u001b[49m\u001b[43mchunk\u001b[49m\u001b[43m \u001b[49m\u001b[38;5;129;43;01min\u001b[39;49;00m\u001b[43m \u001b[49m\u001b[38;5;28;43mself\u001b[39;49m\u001b[43m.\u001b[49m\u001b[43mstream\u001b[49m\u001b[43m(\u001b[49m\n\u001b[32m   3016\u001b[39m \u001b[43m    \u001b[49m\u001b[38;5;28;43minput\u001b[39;49m\u001b[43m,\u001b[49m\n\u001b[32m   3017\u001b[39m \u001b[43m    \u001b[49m\u001b[43mconfig\u001b[49m\u001b[43m,\u001b[49m\n\u001b[32m   3018\u001b[39m \u001b[43m    \u001b[49m\u001b[43mcontext\u001b[49m\u001b[43m=\u001b[49m\u001b[43mcontext\u001b[49m\u001b[43m,\u001b[49m\n\u001b[32m   3019\u001b[39m \u001b[43m    \u001b[49m\u001b[43mstream_mode\u001b[49m\u001b[43m=\u001b[49m\u001b[43m[\u001b[49m\u001b[33;43m\"\u001b[39;49m\u001b[33;43mupdates\u001b[39;49m\u001b[33;43m\"\u001b[39;49m\u001b[43m,\u001b[49m\u001b[43m \u001b[49m\u001b[33;43m\"\u001b[39;49m\u001b[33;43mvalues\u001b[39;49m\u001b[33;43m\"\u001b[39;49m\u001b[43m]\u001b[49m\n\u001b[32m   3020\u001b[39m \u001b[43m    \u001b[49m\u001b[38;5;28;43;01mif\u001b[39;49;00m\u001b[43m \u001b[49m\u001b[43mstream_mode\u001b[49m\u001b[43m \u001b[49m\u001b[43m==\u001b[49m\u001b[43m \u001b[49m\u001b[33;43m\"\u001b[39;49m\u001b[33;43mvalues\u001b[39;49m\u001b[33;43m\"\u001b[39;49m\n\u001b[32m   3021\u001b[39m \u001b[43m    \u001b[49m\u001b[38;5;28;43;01melse\u001b[39;49;00m\u001b[43m \u001b[49m\u001b[43mstream_mode\u001b[49m\u001b[43m,\u001b[49m\n\u001b[32m   3022\u001b[39m \u001b[43m    \u001b[49m\u001b[43mprint_mode\u001b[49m\u001b[43m=\u001b[49m\u001b[43mprint_mode\u001b[49m\u001b[43m,\u001b[49m\n\u001b[32m   3023\u001b[39m \u001b[43m    \u001b[49m\u001b[43moutput_keys\u001b[49m\u001b[43m=\u001b[49m\u001b[43moutput_keys\u001b[49m\u001b[43m,\u001b[49m\n\u001b[32m   3024\u001b[39m \u001b[43m    \u001b[49m\u001b[43minterrupt_before\u001b[49m\u001b[43m=\u001b[49m\u001b[43minterrupt_before\u001b[49m\u001b[43m,\u001b[49m\n\u001b[32m   3025\u001b[39m \u001b[43m    \u001b[49m\u001b[43minterrupt_after\u001b[49m\u001b[43m=\u001b[49m\u001b[43minterrupt_after\u001b[49m\u001b[43m,\u001b[49m\n\u001b[32m   3026\u001b[39m \u001b[43m    \u001b[49m\u001b[43mdurability\u001b[49m\u001b[43m=\u001b[49m\u001b[43mdurability\u001b[49m\u001b[43m,\u001b[49m\n\u001b[32m   3027\u001b[39m \u001b[43m    \u001b[49m\u001b[43m*\u001b[49m\u001b[43m*\u001b[49m\u001b[43mkwargs\u001b[49m\u001b[43m,\u001b[49m\n\u001b[32m   3028\u001b[39m \u001b[43m\u001b[49m\u001b[43m)\u001b[49m\u001b[43m:\u001b[49m\n\u001b[32m   3029\u001b[39m \u001b[43m    \u001b[49m\u001b[38;5;28;43;01mif\u001b[39;49;00m\u001b[43m \u001b[49m\u001b[43mstream_mode\u001b[49m\u001b[43m \u001b[49m\u001b[43m==\u001b[49m\u001b[43m \u001b[49m\u001b[33;43m\"\u001b[39;49m\u001b[33;43mvalues\u001b[39;49m\u001b[33;43m\"\u001b[39;49m\u001b[43m:\u001b[49m\n\u001b[32m   3030\u001b[39m \u001b[43m        \u001b[49m\u001b[38;5;28;43;01mif\u001b[39;49;00m\u001b[43m \u001b[49m\u001b[38;5;28;43mlen\u001b[39;49m\u001b[43m(\u001b[49m\u001b[43mchunk\u001b[49m\u001b[43m)\u001b[49m\u001b[43m \u001b[49m\u001b[43m==\u001b[49m\u001b[43m \u001b[49m\u001b[32;43m2\u001b[39;49m\u001b[43m:\u001b[49m\n",
      "\u001b[36mFile \u001b[39m\u001b[32mc:\\AgenticAI\\Assignments\\tasks_venv\\Lib\\site-packages\\langgraph\\pregel\\main.py:2642\u001b[39m, in \u001b[36mPregel.stream\u001b[39m\u001b[34m(self, input, config, context, stream_mode, print_mode, output_keys, interrupt_before, interrupt_after, durability, subgraphs, debug, **kwargs)\u001b[39m\n\u001b[32m   2640\u001b[39m \u001b[38;5;28;01mfor\u001b[39;00m task \u001b[38;5;129;01min\u001b[39;00m loop.match_cached_writes():\n\u001b[32m   2641\u001b[39m     loop.output_writes(task.id, task.writes, cached=\u001b[38;5;28;01mTrue\u001b[39;00m)\n\u001b[32m-> \u001b[39m\u001b[32m2642\u001b[39m \u001b[43m\u001b[49m\u001b[38;5;28;43;01mfor\u001b[39;49;00m\u001b[43m \u001b[49m\u001b[43m_\u001b[49m\u001b[43m \u001b[49m\u001b[38;5;129;43;01min\u001b[39;49;00m\u001b[43m \u001b[49m\u001b[43mrunner\u001b[49m\u001b[43m.\u001b[49m\u001b[43mtick\u001b[49m\u001b[43m(\u001b[49m\n\u001b[32m   2643\u001b[39m \u001b[43m    \u001b[49m\u001b[43m[\u001b[49m\u001b[43mt\u001b[49m\u001b[43m \u001b[49m\u001b[38;5;28;43;01mfor\u001b[39;49;00m\u001b[43m \u001b[49m\u001b[43mt\u001b[49m\u001b[43m \u001b[49m\u001b[38;5;129;43;01min\u001b[39;49;00m\u001b[43m \u001b[49m\u001b[43mloop\u001b[49m\u001b[43m.\u001b[49m\u001b[43mtasks\u001b[49m\u001b[43m.\u001b[49m\u001b[43mvalues\u001b[49m\u001b[43m(\u001b[49m\u001b[43m)\u001b[49m\u001b[43m \u001b[49m\u001b[38;5;28;43;01mif\u001b[39;49;00m\u001b[43m \u001b[49m\u001b[38;5;129;43;01mnot\u001b[39;49;00m\u001b[43m \u001b[49m\u001b[43mt\u001b[49m\u001b[43m.\u001b[49m\u001b[43mwrites\u001b[49m\u001b[43m]\u001b[49m\u001b[43m,\u001b[49m\n\u001b[32m   2644\u001b[39m \u001b[43m    \u001b[49m\u001b[43mtimeout\u001b[49m\u001b[43m=\u001b[49m\u001b[38;5;28;43mself\u001b[39;49m\u001b[43m.\u001b[49m\u001b[43mstep_timeout\u001b[49m\u001b[43m,\u001b[49m\n\u001b[32m   2645\u001b[39m \u001b[43m    \u001b[49m\u001b[43mget_waiter\u001b[49m\u001b[43m=\u001b[49m\u001b[43mget_waiter\u001b[49m\u001b[43m,\u001b[49m\n\u001b[32m   2646\u001b[39m \u001b[43m    \u001b[49m\u001b[43mschedule_task\u001b[49m\u001b[43m=\u001b[49m\u001b[43mloop\u001b[49m\u001b[43m.\u001b[49m\u001b[43maccept_push\u001b[49m\u001b[43m,\u001b[49m\n\u001b[32m   2647\u001b[39m \u001b[43m\u001b[49m\u001b[43m)\u001b[49m\u001b[43m:\u001b[49m\n\u001b[32m   2648\u001b[39m \u001b[43m    \u001b[49m\u001b[38;5;66;43;03m# emit output\u001b[39;49;00m\n\u001b[32m   2649\u001b[39m \u001b[43m    \u001b[49m\u001b[38;5;28;43;01myield from\u001b[39;49;00m\u001b[43m \u001b[49m\u001b[43m_output\u001b[49m\u001b[43m(\u001b[49m\n\u001b[32m   2650\u001b[39m \u001b[43m        \u001b[49m\u001b[43mstream_mode\u001b[49m\u001b[43m,\u001b[49m\u001b[43m \u001b[49m\u001b[43mprint_mode\u001b[49m\u001b[43m,\u001b[49m\u001b[43m \u001b[49m\u001b[43msubgraphs\u001b[49m\u001b[43m,\u001b[49m\u001b[43m \u001b[49m\u001b[43mstream\u001b[49m\u001b[43m.\u001b[49m\u001b[43mget\u001b[49m\u001b[43m,\u001b[49m\u001b[43m \u001b[49m\u001b[43mqueue\u001b[49m\u001b[43m.\u001b[49m\u001b[43mEmpty\u001b[49m\n\u001b[32m   2651\u001b[39m \u001b[43m    \u001b[49m\u001b[43m)\u001b[49m\n\u001b[32m   2652\u001b[39m loop.after_tick()\n",
      "\u001b[36mFile \u001b[39m\u001b[32mc:\\AgenticAI\\Assignments\\tasks_venv\\Lib\\site-packages\\langgraph\\pregel\\_runner.py:162\u001b[39m, in \u001b[36mPregelRunner.tick\u001b[39m\u001b[34m(self, tasks, reraise, timeout, retry_policy, get_waiter, schedule_task)\u001b[39m\n\u001b[32m    160\u001b[39m t = tasks[\u001b[32m0\u001b[39m]\n\u001b[32m    161\u001b[39m \u001b[38;5;28;01mtry\u001b[39;00m:\n\u001b[32m--> \u001b[39m\u001b[32m162\u001b[39m     \u001b[43mrun_with_retry\u001b[49m\u001b[43m(\u001b[49m\n\u001b[32m    163\u001b[39m \u001b[43m        \u001b[49m\u001b[43mt\u001b[49m\u001b[43m,\u001b[49m\n\u001b[32m    164\u001b[39m \u001b[43m        \u001b[49m\u001b[43mretry_policy\u001b[49m\u001b[43m,\u001b[49m\n\u001b[32m    165\u001b[39m \u001b[43m        \u001b[49m\u001b[43mconfigurable\u001b[49m\u001b[43m=\u001b[49m\u001b[43m{\u001b[49m\n\u001b[32m    166\u001b[39m \u001b[43m            \u001b[49m\u001b[43mCONFIG_KEY_CALL\u001b[49m\u001b[43m:\u001b[49m\u001b[43m \u001b[49m\u001b[43mpartial\u001b[49m\u001b[43m(\u001b[49m\n\u001b[32m    167\u001b[39m \u001b[43m                \u001b[49m\u001b[43m_call\u001b[49m\u001b[43m,\u001b[49m\n\u001b[32m    168\u001b[39m \u001b[43m                \u001b[49m\u001b[43mweakref\u001b[49m\u001b[43m.\u001b[49m\u001b[43mref\u001b[49m\u001b[43m(\u001b[49m\u001b[43mt\u001b[49m\u001b[43m)\u001b[49m\u001b[43m,\u001b[49m\n\u001b[32m    169\u001b[39m \u001b[43m                \u001b[49m\u001b[43mretry_policy\u001b[49m\u001b[43m=\u001b[49m\u001b[43mretry_policy\u001b[49m\u001b[43m,\u001b[49m\n\u001b[32m    170\u001b[39m \u001b[43m                \u001b[49m\u001b[43mfutures\u001b[49m\u001b[43m=\u001b[49m\u001b[43mweakref\u001b[49m\u001b[43m.\u001b[49m\u001b[43mref\u001b[49m\u001b[43m(\u001b[49m\u001b[43mfutures\u001b[49m\u001b[43m)\u001b[49m\u001b[43m,\u001b[49m\n\u001b[32m    171\u001b[39m \u001b[43m                \u001b[49m\u001b[43mschedule_task\u001b[49m\u001b[43m=\u001b[49m\u001b[43mschedule_task\u001b[49m\u001b[43m,\u001b[49m\n\u001b[32m    172\u001b[39m \u001b[43m                \u001b[49m\u001b[43msubmit\u001b[49m\u001b[43m=\u001b[49m\u001b[38;5;28;43mself\u001b[39;49m\u001b[43m.\u001b[49m\u001b[43msubmit\u001b[49m\u001b[43m,\u001b[49m\n\u001b[32m    173\u001b[39m \u001b[43m            \u001b[49m\u001b[43m)\u001b[49m\u001b[43m,\u001b[49m\n\u001b[32m    174\u001b[39m \u001b[43m        \u001b[49m\u001b[43m}\u001b[49m\u001b[43m,\u001b[49m\n\u001b[32m    175\u001b[39m \u001b[43m    \u001b[49m\u001b[43m)\u001b[49m\n\u001b[32m    176\u001b[39m     \u001b[38;5;28mself\u001b[39m.commit(t, \u001b[38;5;28;01mNone\u001b[39;00m)\n\u001b[32m    177\u001b[39m \u001b[38;5;28;01mexcept\u001b[39;00m \u001b[38;5;167;01mException\u001b[39;00m \u001b[38;5;28;01mas\u001b[39;00m exc:\n",
      "\u001b[36mFile \u001b[39m\u001b[32mc:\\AgenticAI\\Assignments\\tasks_venv\\Lib\\site-packages\\langgraph\\pregel\\_retry.py:42\u001b[39m, in \u001b[36mrun_with_retry\u001b[39m\u001b[34m(task, retry_policy, configurable)\u001b[39m\n\u001b[32m     40\u001b[39m     task.writes.clear()\n\u001b[32m     41\u001b[39m     \u001b[38;5;66;03m# run the task\u001b[39;00m\n\u001b[32m---> \u001b[39m\u001b[32m42\u001b[39m     \u001b[38;5;28;01mreturn\u001b[39;00m \u001b[43mtask\u001b[49m\u001b[43m.\u001b[49m\u001b[43mproc\u001b[49m\u001b[43m.\u001b[49m\u001b[43minvoke\u001b[49m\u001b[43m(\u001b[49m\u001b[43mtask\u001b[49m\u001b[43m.\u001b[49m\u001b[43minput\u001b[49m\u001b[43m,\u001b[49m\u001b[43m \u001b[49m\u001b[43mconfig\u001b[49m\u001b[43m)\u001b[49m\n\u001b[32m     43\u001b[39m \u001b[38;5;28;01mexcept\u001b[39;00m ParentCommand \u001b[38;5;28;01mas\u001b[39;00m exc:\n\u001b[32m     44\u001b[39m     ns: \u001b[38;5;28mstr\u001b[39m = config[CONF][CONFIG_KEY_CHECKPOINT_NS]\n",
      "\u001b[36mFile \u001b[39m\u001b[32mc:\\AgenticAI\\Assignments\\tasks_venv\\Lib\\site-packages\\langgraph\\_internal\\_runnable.py:657\u001b[39m, in \u001b[36mRunnableSeq.invoke\u001b[39m\u001b[34m(self, input, config, **kwargs)\u001b[39m\n\u001b[32m    655\u001b[39m     \u001b[38;5;66;03m# run in context\u001b[39;00m\n\u001b[32m    656\u001b[39m     \u001b[38;5;28;01mwith\u001b[39;00m set_config_context(config, run) \u001b[38;5;28;01mas\u001b[39;00m context:\n\u001b[32m--> \u001b[39m\u001b[32m657\u001b[39m         \u001b[38;5;28minput\u001b[39m = \u001b[43mcontext\u001b[49m\u001b[43m.\u001b[49m\u001b[43mrun\u001b[49m\u001b[43m(\u001b[49m\u001b[43mstep\u001b[49m\u001b[43m.\u001b[49m\u001b[43minvoke\u001b[49m\u001b[43m,\u001b[49m\u001b[43m \u001b[49m\u001b[38;5;28;43minput\u001b[39;49m\u001b[43m,\u001b[49m\u001b[43m \u001b[49m\u001b[43mconfig\u001b[49m\u001b[43m,\u001b[49m\u001b[43m \u001b[49m\u001b[43m*\u001b[49m\u001b[43m*\u001b[49m\u001b[43mkwargs\u001b[49m\u001b[43m)\u001b[49m\n\u001b[32m    658\u001b[39m \u001b[38;5;28;01melse\u001b[39;00m:\n\u001b[32m    659\u001b[39m     \u001b[38;5;28minput\u001b[39m = step.invoke(\u001b[38;5;28minput\u001b[39m, config)\n",
      "\u001b[36mFile \u001b[39m\u001b[32mc:\\AgenticAI\\Assignments\\tasks_venv\\Lib\\site-packages\\langgraph\\_internal\\_runnable.py:401\u001b[39m, in \u001b[36mRunnableCallable.invoke\u001b[39m\u001b[34m(self, input, config, **kwargs)\u001b[39m\n\u001b[32m    399\u001b[39m         run_manager.on_chain_end(ret)\n\u001b[32m    400\u001b[39m \u001b[38;5;28;01melse\u001b[39;00m:\n\u001b[32m--> \u001b[39m\u001b[32m401\u001b[39m     ret = \u001b[38;5;28;43mself\u001b[39;49m\u001b[43m.\u001b[49m\u001b[43mfunc\u001b[49m\u001b[43m(\u001b[49m\u001b[43m*\u001b[49m\u001b[43margs\u001b[49m\u001b[43m,\u001b[49m\u001b[43m \u001b[49m\u001b[43m*\u001b[49m\u001b[43m*\u001b[49m\u001b[43mkwargs\u001b[49m\u001b[43m)\u001b[49m\n\u001b[32m    402\u001b[39m \u001b[38;5;28;01mif\u001b[39;00m \u001b[38;5;28mself\u001b[39m.recurse \u001b[38;5;129;01mand\u001b[39;00m \u001b[38;5;28misinstance\u001b[39m(ret, Runnable):\n\u001b[32m    403\u001b[39m     \u001b[38;5;28;01mreturn\u001b[39;00m ret.invoke(\u001b[38;5;28minput\u001b[39m, config)\n",
      "\u001b[36mCell\u001b[39m\u001b[36m \u001b[39m\u001b[32mIn[145]\u001b[39m\u001b[32m, line 6\u001b[39m, in \u001b[36mcombine_all_file\u001b[39m\u001b[34m(state)\u001b[39m\n\u001b[32m      2\u001b[39m \u001b[38;5;250m\u001b[39m\u001b[33;03m\"\"\"\u001b[39;00m\n\u001b[32m      3\u001b[39m \u001b[33;03mCombines all generated outputs into a single output file.\u001b[39;00m\n\u001b[32m      4\u001b[39m \u001b[33;03m\"\"\"\u001b[39;00m\n\u001b[32m      5\u001b[39m combine=\u001b[33m\"\u001b[39m\u001b[33m\"\u001b[39m\n\u001b[32m----> \u001b[39m\u001b[32m6\u001b[39m combine += \u001b[33mf\u001b[39m\u001b[33m'''\u001b[39m\u001b[33mHere is the complete file about \u001b[39m\u001b[38;5;132;01m{\u001b[39;00m\u001b[43mstate\u001b[49m\u001b[43m[\u001b[49m\u001b[33;43m'\u001b[39;49m\u001b[33;43muser_input\u001b[39;49m\u001b[33;43m'\u001b[39;49m\u001b[43m]\u001b[49m\u001b[38;5;132;01m}\u001b[39;00m\u001b[33m!\u001b[39m\u001b[38;5;130;01m\\n\u001b[39;00m\u001b[38;5;130;01m\\n\u001b[39;00m\u001b[33m'''\u001b[39m\n\u001b[32m      7\u001b[39m combine +=\u001b[33mf\u001b[39m\u001b[33m'''\u001b[39m\u001b[33m# Problem Statement: \u001b[39m\u001b[38;5;132;01m{\u001b[39;00mstate[\u001b[33m'\u001b[39m\u001b[33muser_input\u001b[39m\u001b[33m'\u001b[39m]\u001b[38;5;132;01m}\u001b[39;00m\u001b[38;5;130;01m\\n\u001b[39;00m\u001b[38;5;130;01m\\n\u001b[39;00m\u001b[33m'''\u001b[39m\n\u001b[32m      8\u001b[39m combine += \u001b[33mf\u001b[39m\u001b[33m'''\u001b[39m\u001b[33m# Generated Code:\u001b[39m\u001b[38;5;130;01m\\n\u001b[39;00m\u001b[38;5;132;01m{\u001b[39;00mstate[\u001b[33m'\u001b[39m\u001b[33mcode\u001b[39m\u001b[33m'\u001b[39m]\u001b[38;5;132;01m}\u001b[39;00m\u001b[38;5;130;01m\\n\u001b[39;00m\u001b[38;5;130;01m\\n\u001b[39;00m\u001b[33m'''\u001b[39m\n",
      "\u001b[31mTypeError\u001b[39m: 'ChatState' object is not subscriptable",
      "During task with name 'output_file' and id 'b1b55868-a1d6-6cda-22e6-d511484cafd4'"
     ]
    }
   ],
   "source": [
    "state = coder_agent.invoke({\n",
    "    \"user_input\" : \"Write a function to calculate the factorial of a number in java\"\n",
    "    })\n",
    "# for m in messages['messages']:\n",
    "#   m.pretty_print()\n",
    "    \n",
    "print(state)"
   ]
  },
  {
   "cell_type": "code",
   "execution_count": null,
   "id": "627747d9",
   "metadata": {},
   "outputs": [],
   "source": []
  },
  {
   "cell_type": "code",
   "execution_count": null,
   "id": "bfbe1445",
   "metadata": {},
   "outputs": [],
   "source": []
  },
  {
   "cell_type": "code",
   "execution_count": null,
   "id": "2ae22410",
   "metadata": {},
   "outputs": [],
   "source": []
  },
  {
   "cell_type": "code",
   "execution_count": null,
   "id": "05848d93",
   "metadata": {},
   "outputs": [],
   "source": []
  },
  {
   "cell_type": "code",
   "execution_count": null,
   "id": "ba74547a",
   "metadata": {},
   "outputs": [],
   "source": []
  },
  {
   "cell_type": "code",
   "execution_count": null,
   "id": "13b4e9a6",
   "metadata": {},
   "outputs": [],
   "source": []
  },
  {
   "cell_type": "code",
   "execution_count": null,
   "id": "3d224fec",
   "metadata": {},
   "outputs": [],
   "source": []
  },
  {
   "cell_type": "code",
   "execution_count": null,
   "id": "ce4bc1f0",
   "metadata": {},
   "outputs": [],
   "source": []
  },
  {
   "cell_type": "code",
   "execution_count": null,
   "id": "8c1fa9c7",
   "metadata": {},
   "outputs": [],
   "source": []
  },
  {
   "cell_type": "code",
   "execution_count": null,
   "id": "687f8664",
   "metadata": {},
   "outputs": [],
   "source": []
  },
  {
   "cell_type": "code",
   "execution_count": null,
   "id": "106679d3",
   "metadata": {},
   "outputs": [],
   "source": []
  },
  {
   "cell_type": "code",
   "execution_count": null,
   "id": "2fd713ee",
   "metadata": {},
   "outputs": [],
   "source": []
  },
  {
   "cell_type": "code",
   "execution_count": null,
   "id": "37c1c8b5",
   "metadata": {},
   "outputs": [],
   "source": []
  },
  {
   "cell_type": "code",
   "execution_count": null,
   "id": "c5f3bf57",
   "metadata": {},
   "outputs": [],
   "source": []
  },
  {
   "cell_type": "code",
   "execution_count": null,
   "id": "8e90e1be",
   "metadata": {},
   "outputs": [],
   "source": []
  }
 ],
 "metadata": {
  "kernelspec": {
   "display_name": "tasks_venv",
   "language": "python",
   "name": "python3"
  },
  "language_info": {
   "codemirror_mode": {
    "name": "ipython",
    "version": 3
   },
   "file_extension": ".py",
   "mimetype": "text/x-python",
   "name": "python",
   "nbconvert_exporter": "python",
   "pygments_lexer": "ipython3",
   "version": "3.13.2"
  }
 },
 "nbformat": 4,
 "nbformat_minor": 5
}
